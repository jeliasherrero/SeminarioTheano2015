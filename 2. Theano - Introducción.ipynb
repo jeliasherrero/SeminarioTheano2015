{
 "metadata": {
  "name": "",
  "signature": "sha256:797a0ac6a5563d1cd556e5b1cb0e1f9ac681b04bce91bb5d6f5a6e70a9d2dc5f"
 },
 "nbformat": 3,
 "nbformat_minor": 0,
 "worksheets": [
  {
   "cells": [
    {
     "cell_type": "heading",
     "level": 1,
     "metadata": {},
     "source": [
      "Theano"
     ]
    },
    {
     "cell_type": "markdown",
     "metadata": {},
     "source": [
      "<strong>\u00bfQu\u00e9 criterio se utiliza para las matrices en Machine Learning?</strong>\n",
      "\n",
      "<ul>\n",
      "<li>Las filas corresponden con ejemplos.</li>\n",
      "<li>Las columnas corresponden con la dimensionalidad de los datos</li>\n",
      "</ul>\n",
      "\n",
      "De esta forma, una entrada [10,5] corresponde con 10 ejemplos con dimensionalidad 5.\n",
      "\n",
      "La funci\u00f3n <strong>asarray</strong> convierte una serie de datos en un arrar de numpy. Pertenece a la librer\u00eda numpy."
     ]
    },
    {
     "cell_type": "code",
     "collapsed": false,
     "input": [
      "import numpy\n",
      "numpy.asarray([[1., 2], [3, 4], [5, 6]])"
     ],
     "language": "python",
     "metadata": {},
     "outputs": []
    },
    {
     "cell_type": "code",
     "collapsed": false,
     "input": [
      "numpy.asarray([[1., 2], [3, 4], [5, 6]]).shape"
     ],
     "language": "python",
     "metadata": {},
     "outputs": []
    },
    {
     "cell_type": "code",
     "collapsed": false,
     "input": [
      "numpy.asarray([[1., 2], [3, 4], [5, 6]])[2, 0]"
     ],
     "language": "python",
     "metadata": {},
     "outputs": []
    },
    {
     "cell_type": "code",
     "collapsed": false,
     "input": [
      "a = numpy.asarray([1.0, 2.0, 3.0])\n",
      "b = 2.0\n",
      "a * b"
     ],
     "language": "python",
     "metadata": {},
     "outputs": []
    },
    {
     "cell_type": "heading",
     "level": 2,
     "metadata": {},
     "source": [
      "\u00c1lgebra"
     ]
    },
    {
     "cell_type": "markdown",
     "metadata": {},
     "source": [
      "Theano es un compilador de expresiones simb\u00f3licas. \u00bfQu\u00e9 significa esto? Que expresamos primero las ecuaciones, y Theano se encarga de ejecutarlas con los datos que m\u00e1s tarde le proporcionamos.\n",
      "\n",
      "Es lo m\u00e1s parecido a escribir una ecuaci\u00f3n tal y como nos vienen en los art\u00edculos.\n",
      "\n",
      "Un primer ejemplo que vamos a ver es c\u00f3mo definir una funci\u00f3n. Hay tres pasos fundamentales:\n",
      "\n",
      "<ul>\n",
      "<li> Declarar el tipo de datos que la funci\u00f3n va a usar.</li>\n",
      "<li> Damos forma a la funci\u00f3n.</li>\n",
      "<li> Utilizamos la herramiento theano.function para que Theano la nueva funci\u00f3n expresada en el paso 2.</li>\n",
      "</ul>\n",
      "\n",
      "Veamos un ejemplo:"
     ]
    },
    {
     "cell_type": "code",
     "collapsed": false,
     "input": [
      "import theano.tensor as T\n",
      "from theano import function\n",
      "\n",
      "# Aqu\u00ed importamos theano y utilizamos dos caracter\u00edsticas fundamentales en Theano: Tensor y function"
     ],
     "language": "python",
     "metadata": {},
     "outputs": [],
     "prompt_number": 12
    },
    {
     "cell_type": "markdown",
     "metadata": {},
     "source": [
      "Los diferentes tipos de tensores que Theano incorpora se pueden ver en la siguiente tabla:\n",
      "\n",
      "<table border=\"1\" class=\"docutils\">\n",
      "<colgroup>\n",
      "<col width=\"17%\" />\n",
      "<col width=\"15%\" />\n",
      "<col width=\"6%\" />\n",
      "<col width=\"15%\" />\n",
      "<col width=\"46%\" />\n",
      "</colgroup>\n",
      "<thead valign=\"bottom\">\n",
      "<tr class=\"row-odd\"><th class=\"head\">Constructor</th>\n",
      "<th class=\"head\">dtype</th>\n",
      "<th class=\"head\">ndim</th>\n",
      "<th class=\"head\">shape</th>\n",
      "<th class=\"head\">broadcastable</th>\n",
      "</tr>\n",
      "</thead>\n",
      "<tbody valign=\"top\">\n",
      "<tr class=\"row-even\"><td>bscalar</td>\n",
      "<td>int8</td>\n",
      "<td>0</td>\n",
      "<td>()</td>\n",
      "<td>()</td>\n",
      "</tr>\n",
      "<tr class=\"row-odd\"><td>bvector</td>\n",
      "<td>int8</td>\n",
      "<td>1</td>\n",
      "<td>(?,)</td>\n",
      "<td>(False,)</td>\n",
      "</tr>\n",
      "<tr class=\"row-even\"><td>brow</td>\n",
      "<td>int8</td>\n",
      "<td>2</td>\n",
      "<td>(1,?)</td>\n",
      "<td>(True, False)</td>\n",
      "</tr>\n",
      "<tr class=\"row-odd\"><td>bcol</td>\n",
      "<td>int8</td>\n",
      "<td>2</td>\n",
      "<td>(?,1)</td>\n",
      "<td>(False, True)</td>\n",
      "</tr>\n",
      "<tr class=\"row-even\"><td>bmatrix</td>\n",
      "<td>int8</td>\n",
      "<td>2</td>\n",
      "<td>(?,?)</td>\n",
      "<td>(False, False)</td>\n",
      "</tr>\n",
      "<tr class=\"row-odd\"><td>btensor3</td>\n",
      "<td>int8</td>\n",
      "<td>3</td>\n",
      "<td>(?,?,?)</td>\n",
      "<td>(False, False, False)</td>\n",
      "</tr>\n",
      "<tr class=\"row-even\"><td>btensor4</td>\n",
      "<td>int8</td>\n",
      "<td>4</td>\n",
      "<td>(?,?,?,?)</td>\n",
      "<td>(False, False, False, False)</td>\n",
      "</tr>\n",
      "<tr class=\"row-odd\"><td>wscalar</td>\n",
      "<td>int16</td>\n",
      "<td>0</td>\n",
      "<td>()</td>\n",
      "<td>()</td>\n",
      "</tr>\n",
      "<tr class=\"row-even\"><td>wvector</td>\n",
      "<td>int16</td>\n",
      "<td>1</td>\n",
      "<td>(?,)</td>\n",
      "<td>(False,)</td>\n",
      "</tr>\n",
      "<tr class=\"row-odd\"><td>wrow</td>\n",
      "<td>int16</td>\n",
      "<td>2</td>\n",
      "<td>(1,?)</td>\n",
      "<td>(True, False)</td>\n",
      "</tr>\n",
      "<tr class=\"row-even\"><td>wcol</td>\n",
      "<td>int16</td>\n",
      "<td>2</td>\n",
      "<td>(?,1)</td>\n",
      "<td>(False, True)</td>\n",
      "</tr>\n",
      "<tr class=\"row-odd\"><td>wmatrix</td>\n",
      "<td>int16</td>\n",
      "<td>2</td>\n",
      "<td>(?,?)</td>\n",
      "<td>(False, False)</td>\n",
      "</tr>\n",
      "<tr class=\"row-even\"><td>wtensor3</td>\n",
      "<td>int16</td>\n",
      "<td>3</td>\n",
      "<td>(?,?,?)</td>\n",
      "<td>(False, False, False)</td>\n",
      "</tr>\n",
      "<tr class=\"row-odd\"><td>wtensor4</td>\n",
      "<td>int16</td>\n",
      "<td>4</td>\n",
      "<td>(?,?,?,?)</td>\n",
      "<td>(False, False, False, False)</td>\n",
      "</tr>\n",
      "<tr class=\"row-even\"><td>iscalar</td>\n",
      "<td>int32</td>\n",
      "<td>0</td>\n",
      "<td>()</td>\n",
      "<td>()</td>\n",
      "</tr>\n",
      "<tr class=\"row-odd\"><td>ivector</td>\n",
      "<td>int32</td>\n",
      "<td>1</td>\n",
      "<td>(?,)</td>\n",
      "<td>(False,)</td>\n",
      "</tr>\n",
      "<tr class=\"row-even\"><td>irow</td>\n",
      "<td>int32</td>\n",
      "<td>2</td>\n",
      "<td>(1,?)</td>\n",
      "<td>(True, False)</td>\n",
      "</tr>\n",
      "<tr class=\"row-odd\"><td>icol</td>\n",
      "<td>int32</td>\n",
      "<td>2</td>\n",
      "<td>(?,1)</td>\n",
      "<td>(False, True)</td>\n",
      "</tr>\n",
      "<tr class=\"row-even\"><td>imatrix</td>\n",
      "<td>int32</td>\n",
      "<td>2</td>\n",
      "<td>(?,?)</td>\n",
      "<td>(False, False)</td>\n",
      "</tr>\n",
      "<tr class=\"row-odd\"><td>itensor3</td>\n",
      "<td>int32</td>\n",
      "<td>3</td>\n",
      "<td>(?,?,?)</td>\n",
      "<td>(False, False, False)</td>\n",
      "</tr>\n",
      "<tr class=\"row-even\"><td>itensor4</td>\n",
      "<td>int32</td>\n",
      "<td>4</td>\n",
      "<td>(?,?,?,?)</td>\n",
      "<td>(False, False, False, False)</td>\n",
      "</tr>\n",
      "<tr class=\"row-odd\"><td>lscalar</td>\n",
      "<td>int64</td>\n",
      "<td>0</td>\n",
      "<td>()</td>\n",
      "<td>()</td>\n",
      "</tr>\n",
      "<tr class=\"row-even\"><td>lvector</td>\n",
      "<td>int64</td>\n",
      "<td>1</td>\n",
      "<td>(?,)</td>\n",
      "<td>(False,)</td>\n",
      "</tr>\n",
      "<tr class=\"row-odd\"><td>lrow</td>\n",
      "<td>int64</td>\n",
      "<td>2</td>\n",
      "<td>(1,?)</td>\n",
      "<td>(True, False)</td>\n",
      "</tr>\n",
      "<tr class=\"row-even\"><td>lcol</td>\n",
      "<td>int64</td>\n",
      "<td>2</td>\n",
      "<td>(?,1)</td>\n",
      "<td>(False, True)</td>\n",
      "</tr>\n",
      "<tr class=\"row-odd\"><td>lmatrix</td>\n",
      "<td>int64</td>\n",
      "<td>2</td>\n",
      "<td>(?,?)</td>\n",
      "<td>(False, False)</td>\n",
      "</tr>\n",
      "<tr class=\"row-even\"><td>ltensor3</td>\n",
      "<td>int64</td>\n",
      "<td>3</td>\n",
      "<td>(?,?,?)</td>\n",
      "<td>(False, False, False)</td>\n",
      "</tr>\n",
      "<tr class=\"row-odd\"><td>ltensor4</td>\n",
      "<td>int64</td>\n",
      "<td>4</td>\n",
      "<td>(?,?,?,?)</td>\n",
      "<td>(False, False, False, False)</td>\n",
      "</tr>\n",
      "<tr class=\"row-even\"><td>dscalar</td>\n",
      "<td>float64</td>\n",
      "<td>0</td>\n",
      "<td>()</td>\n",
      "<td>()</td>\n",
      "</tr>\n",
      "<tr class=\"row-odd\"><td>dvector</td>\n",
      "<td>float64</td>\n",
      "<td>1</td>\n",
      "<td>(?,)</td>\n",
      "<td>(False,)</td>\n",
      "</tr>\n",
      "<tr class=\"row-even\"><td>drow</td>\n",
      "<td>float64</td>\n",
      "<td>2</td>\n",
      "<td>(1,?)</td>\n",
      "<td>(True, False)</td>\n",
      "</tr>\n",
      "<tr class=\"row-odd\"><td>dcol</td>\n",
      "<td>float64</td>\n",
      "<td>2</td>\n",
      "<td>(?,1)</td>\n",
      "<td>(False, True)</td>\n",
      "</tr>\n",
      "<tr class=\"row-even\"><td>dmatrix</td>\n",
      "<td>float64</td>\n",
      "<td>2</td>\n",
      "<td>(?,?)</td>\n",
      "<td>(False, False)</td>\n",
      "</tr>\n",
      "<tr class=\"row-odd\"><td>dtensor3</td>\n",
      "<td>float64</td>\n",
      "<td>3</td>\n",
      "<td>(?,?,?)</td>\n",
      "<td>(False, False, False)</td>\n",
      "</tr>\n",
      "<tr class=\"row-even\"><td>dtensor4</td>\n",
      "<td>float64</td>\n",
      "<td>4</td>\n",
      "<td>(?,?,?,?)</td>\n",
      "<td>(False, False, False, False)</td>\n",
      "</tr>\n",
      "<tr class=\"row-odd\"><td>fscalar</td>\n",
      "<td>float32</td>\n",
      "<td>0</td>\n",
      "<td>()</td>\n",
      "<td>()</td>\n",
      "</tr>\n",
      "<tr class=\"row-even\"><td>fvector</td>\n",
      "<td>float32</td>\n",
      "<td>1</td>\n",
      "<td>(?,)</td>\n",
      "<td>(False,)</td>\n",
      "</tr>\n",
      "<tr class=\"row-odd\"><td>frow</td>\n",
      "<td>float32</td>\n",
      "<td>2</td>\n",
      "<td>(1,?)</td>\n",
      "<td>(True, False)</td>\n",
      "</tr>\n",
      "<tr class=\"row-even\"><td>fcol</td>\n",
      "<td>float32</td>\n",
      "<td>2</td>\n",
      "<td>(?,1)</td>\n",
      "<td>(False, True)</td>\n",
      "</tr>\n",
      "<tr class=\"row-odd\"><td>fmatrix</td>\n",
      "<td>float32</td>\n",
      "<td>2</td>\n",
      "<td>(?,?)</td>\n",
      "<td>(False, False)</td>\n",
      "</tr>\n",
      "<tr class=\"row-even\"><td>ftensor3</td>\n",
      "<td>float32</td>\n",
      "<td>3</td>\n",
      "<td>(?,?,?)</td>\n",
      "<td>(False, False, False)</td>\n",
      "</tr>\n",
      "<tr class=\"row-odd\"><td>ftensor4</td>\n",
      "<td>float32</td>\n",
      "<td>4</td>\n",
      "<td>(?,?,?,?)</td>\n",
      "<td>(False, False, False, False)</td>\n",
      "</tr>\n",
      "<tr class=\"row-even\"><td>cscalar</td>\n",
      "<td>complex64</td>\n",
      "<td>0</td>\n",
      "<td>()</td>\n",
      "<td>()</td>\n",
      "</tr>\n",
      "<tr class=\"row-odd\"><td>cvector</td>\n",
      "<td>complex64</td>\n",
      "<td>1</td>\n",
      "<td>(?,)</td>\n",
      "<td>(False,)</td>\n",
      "</tr>\n",
      "<tr class=\"row-even\"><td>crow</td>\n",
      "<td>complex64</td>\n",
      "<td>2</td>\n",
      "<td>(1,?)</td>\n",
      "<td>(True, False)</td>\n",
      "</tr>\n",
      "<tr class=\"row-odd\"><td>ccol</td>\n",
      "<td>complex64</td>\n",
      "<td>2</td>\n",
      "<td>(?,1)</td>\n",
      "<td>(False, True)</td>\n",
      "</tr>\n",
      "<tr class=\"row-even\"><td>cmatrix</td>\n",
      "<td>complex64</td>\n",
      "<td>2</td>\n",
      "<td>(?,?)</td>\n",
      "<td>(False, False)</td>\n",
      "</tr>\n",
      "<tr class=\"row-odd\"><td>ctensor3</td>\n",
      "<td>complex64</td>\n",
      "<td>3</td>\n",
      "<td>(?,?,?)</td>\n",
      "<td>(False, False, False)</td>\n",
      "</tr>\n",
      "<tr class=\"row-even\"><td>ctensor4</td>\n",
      "<td>complex64</td>\n",
      "<td>4</td>\n",
      "<td>(?,?,?,?)</td>\n",
      "<td>(False, False, False, False)</td>\n",
      "</tr>\n",
      "<tr class=\"row-odd\"><td>zscalar</td>\n",
      "<td>complex128</td>\n",
      "<td>0</td>\n",
      "<td>()</td>\n",
      "<td>()</td>\n",
      "</tr>\n",
      "<tr class=\"row-even\"><td>zvector</td>\n",
      "<td>complex128</td>\n",
      "<td>1</td>\n",
      "<td>(?,)</td>\n",
      "<td>(False,)</td>\n",
      "</tr>\n",
      "<tr class=\"row-odd\"><td>zrow</td>\n",
      "<td>complex128</td>\n",
      "<td>2</td>\n",
      "<td>(1,?)</td>\n",
      "<td>(True, False)</td>\n",
      "</tr>\n",
      "<tr class=\"row-even\"><td>zcol</td>\n",
      "<td>complex128</td>\n",
      "<td>2</td>\n",
      "<td>(?,1)</td>\n",
      "<td>(False, True)</td>\n",
      "</tr>\n",
      "<tr class=\"row-odd\"><td>zmatrix</td>\n",
      "<td>complex128</td>\n",
      "<td>2</td>\n",
      "<td>(?,?)</td>\n",
      "<td>(False, False)</td>\n",
      "</tr>\n",
      "<tr class=\"row-even\"><td>ztensor3</td>\n",
      "<td>complex128</td>\n",
      "<td>3</td>\n",
      "<td>(?,?,?)</td>\n",
      "<td>(False, False, False)</td>\n",
      "</tr>\n",
      "<tr class=\"row-odd\"><td>ztensor4</td>\n",
      "<td>complex128</td>\n",
      "<td>4</td>\n",
      "<td>(?,?,?,?)</td>\n",
      "<td>(False, False, False, False)</td>\n",
      "</tr>\n",
      "</tbody>\n",
      "</table>"
     ]
    },
    {
     "cell_type": "markdown",
     "metadata": {},
     "source": [
      "En nuestro primer ejemplo vamos a utilizar dos variables del tipo <strong>dscalar</strong>, que corresponde a n\u00fameros reales de 64 bits. \n",
      "\n",
      "<strong>Ojo: Actualmente, a la hora de llevar datos a la GPU es mejor configurarlos con 32 bits.</strong>"
     ]
    },
    {
     "cell_type": "code",
     "collapsed": false,
     "input": [
      "x = T.dscalar('x')\n",
      "y = T.dscalar('y')\n",
      "\n",
      "# Este es el primer paso. Definimos las variables a usar en la expresi\u00f3n de la funci\u00f3n que queremos implementar."
     ],
     "language": "python",
     "metadata": {},
     "outputs": []
    },
    {
     "cell_type": "code",
     "collapsed": false,
     "input": [
      "z = x + y\n",
      "\n",
      "# Esta es la expresi\u00f3n simb\u00f3lica de la funci\u00f3n.\n",
      "# Fijaros que todav\u00eda no hay datos."
     ],
     "language": "python",
     "metadata": {},
     "outputs": []
    },
    {
     "cell_type": "markdown",
     "metadata": {},
     "source": [
      "Por \u00faltimo, lo que nos queda por hacer es que Theano compile la expresi\u00f3n simb\u00f3lica.\n",
      "\n",
      "Para ello, Theano usa <strong>function</strong>. Vamos a indagar que nos proporciona esta herramienta de Theano:\n",
      "\n",
      "        function.function(inputs, outputs, mode=None, updates=None, givens=None, no_default_updates=False, accept_inplace=False, name=None, rebuild_strict=True, allow_input_downcast=None, profile=None, on_unused_input='raise')\n",
      "        \n",
      "Como se aprecia, hay un mont\u00f3n de par\u00e1metros que se le pueden incluir a la functi\u00f3n <strong>function</strong>. Nos quedamos de momento con tres: inputs, ouputs y name.\n",
      "\n",
      "<ul>\n",
      "<li><strong>Inputs</strong>: Lista de par\u00e1metros que necesita la funci\u00f3n que se va a ejecutar</li>\n",
      "<li><strong>Outputs</strong>: Funci\u00f3n a ejecutar</li>\n",
      "<li><strong>Inputs</strong>: Campo que no es obligatorio, pero podemos asignar un nombre a nuestra funci\u00f3n</li>\n",
      "</ul>"
     ]
    },
    {
     "cell_type": "code",
     "collapsed": false,
     "input": [
      "f = function([x, y], z, name='suma')\n",
      "f(2,3)"
     ],
     "language": "python",
     "metadata": {},
     "outputs": []
    },
    {
     "cell_type": "markdown",
     "metadata": {},
     "source": [
      "Pero obviamente, esto funciona con cualquier otro tipo de dato:"
     ]
    },
    {
     "cell_type": "code",
     "collapsed": false,
     "input": [
      "x = T.dmatrix('x')\n",
      "y = T.dmatrix('y')\n",
      "z = x + y\n",
      "f = function([x, y], z)\n",
      "f([[1, 2], [3, 4]], [[10, 20], [30, 40]])"
     ],
     "language": "python",
     "metadata": {},
     "outputs": []
    },
    {
     "cell_type": "markdown",
     "metadata": {},
     "source": [
      "Incluso podemos calcular m\u00e1s de una funci\u00f3n a la vez:"
     ]
    },
    {
     "cell_type": "code",
     "collapsed": false,
     "input": [
      "a, b = T.dmatrices('a', 'b')\n",
      "diff = a - b\n",
      "abs_diff = abs(diff)\n",
      "diff_squared = diff**2\n",
      "f = function([a, b], [diff, abs_diff, diff_squared])\n",
      "f([[1, 1], [1, 1]], [[0, 1], [2, 3]])"
     ],
     "language": "python",
     "metadata": {},
     "outputs": []
    },
    {
     "cell_type": "markdown",
     "metadata": {},
     "source": [
      "Y definir valores por defecto importando el paquete Param the Theano:"
     ]
    },
    {
     "cell_type": "code",
     "collapsed": false,
     "input": [
      "from theano import Param\n",
      "x, y = T.dscalars('x', 'y')\n",
      "z = x + y\n",
      "f = function([x, Param(y, default=1)], z)\n",
      "f(33)"
     ],
     "language": "python",
     "metadata": {},
     "outputs": []
    },
    {
     "cell_type": "code",
     "collapsed": false,
     "input": [
      "x, y, w = T.dscalars('x', 'y', 'w')\n",
      "z = (x + y) * w\n",
      "f = function([x, Param(y, default=1), Param(w, default=2, name='w_by_name')], z)\n",
      "f(33)"
     ],
     "language": "python",
     "metadata": {},
     "outputs": []
    },
    {
     "cell_type": "heading",
     "level": 2,
     "metadata": {},
     "source": [
      "Variables Shared"
     ]
    },
    {
     "cell_type": "markdown",
     "metadata": {},
     "source": [
      "This code introduces a few new concepts. The shared function constructs so-called shared variables. These are hybrid symbolic and non-symbolic variables whose value may be shared between multiple functions. Shared variables can be used in symbolic expressions just like the objects returned by dmatrices(...) but they also have an internal value that defines the value taken by this symbolic variable in all the functions that use it. It is called a shared variable because its value is shared between many functions. The value can be accessed and modified by the .get_value() and .set_value() methods.\n",
      "\n",
      "The other new thing in this code is the updates parameter of function. updates must be supplied with a list of pairs of the form (shared-variable, new expression). It can also be a dictionary whose keys are shared-variables and values are the new expressions. Either way, it means \u201cwhenever this function runs, it will replace the .value of each shared variable with the result of the corresponding expression\u201d. Above, our accumulator replaces the state\u2018s value with the sum of the state and the increment amount.\n",
      "\n",
      "<strong>Nota: Para asegurarnos que los datos son cargados en la GPU hay que definirlos en variables shared.</strong>"
     ]
    },
    {
     "cell_type": "markdown",
     "metadata": {},
     "source": [
      "En el siguiente ejemplo introducimos el par\u00e1metro <strong>updates</strong>, en el que tr\u00e1s la ejecuci\u00f3n de la funci\u00f3n la variable a actualizar lo hace con la expresi\u00f3n que se adjunta.\n",
      "\n",
      "    updates=[(variable, expresi\u00f3n de actualizaci\u00f3n)]\n",
      "    \n",
      "Se debe observar en el ejemplo que la funci\u00f3n es simplemente devolver el valor de \"state\", el cual es actualizado por la ecuaci\u00f3n definido en el par\u00e1metro \"updates\"."
     ]
    },
    {
     "cell_type": "code",
     "collapsed": false,
     "input": [
      "from theano import shared\n",
      "state = shared(0)\n",
      "inc = T.iscalar('inc')\n",
      "accumulator = function([inc], state, updates=[(state, state+inc)])"
     ],
     "language": "python",
     "metadata": {},
     "outputs": []
    },
    {
     "cell_type": "code",
     "collapsed": false,
     "input": [
      "state.get_value()\n",
      "accumulator(1)\n",
      "state.get_value()"
     ],
     "language": "python",
     "metadata": {},
     "outputs": []
    },
    {
     "cell_type": "heading",
     "level": 2,
     "metadata": {},
     "source": [
      "Logistic regression"
     ]
    },
    {
     "cell_type": "heading",
     "level": 3,
     "metadata": {},
     "source": [
      "Funci\u00f3n sigmoidea"
     ]
    },
    {
     "cell_type": "markdown",
     "metadata": {},
     "source": [
      "<img src=\"http://deeplearning.net/software/theano/_images/logistic.png\">\n",
      "\\begin{align}\n",
      "s(x) &= \\dfrac{1}{1+e^{-x}}\n",
      "\\end{align}"
     ]
    },
    {
     "cell_type": "code",
     "collapsed": false,
     "input": [
      "x = T.dmatrix('x')\n",
      "s = 1 / (1 + T.exp(-x))\n",
      "logistic = function([x], s)\n",
      "logistic([[0, 1], [-1, -2]])"
     ],
     "language": "python",
     "metadata": {},
     "outputs": [
      {
       "metadata": {},
       "output_type": "pyout",
       "prompt_number": 13,
       "text": [
        "array([[ 0.5       ,  0.73105858],\n",
        "       [ 0.26894142,  0.11920292]])"
       ]
      }
     ],
     "prompt_number": 13
    },
    {
     "cell_type": "markdown",
     "metadata": {},
     "source": [
      "Si queremos representar esta funci\u00f3n en Python:"
     ]
    },
    {
     "cell_type": "code",
     "collapsed": false,
     "input": [
      "import matplotlib.pyplot as plt\n",
      "\n",
      "x = T.dscalar('x')\n",
      "s = 1 / (1 + T.exp(-x))\n",
      "logistic = function([x], s)\n",
      "\n",
      "nums=range(-60,60)\n",
      "x=[]\n",
      "y=[]\n",
      "for i in nums:\n",
      "    x.append(i/10.)\n",
      "    y.append(logistic(i/10.))\n",
      "\n",
      "plt.plot(x,y)\n",
      "plt.show()"
     ],
     "language": "python",
     "metadata": {},
     "outputs": []
    },
    {
     "cell_type": "heading",
     "level": 3,
     "metadata": {},
     "source": [
      "Funci\u00f3n tanh"
     ]
    },
    {
     "cell_type": "code",
     "collapsed": false,
     "input": [
      "s2 = (1 + T.tanh(x / 2)) / 2\n",
      "logistic2 = function([x], s2)\n",
      "logistic2([[0, 1], [-1, -2]])"
     ],
     "language": "python",
     "metadata": {},
     "outputs": []
    },
    {
     "cell_type": "code",
     "collapsed": false,
     "input": [
      "import matplotlib.pyplot as plt\n",
      "\n",
      "x = T.dscalar('x')\n",
      "s2 = (1 + T.tanh(x / 2)) / 2\n",
      "logistic2 = function([x], s2)\n",
      "\n",
      "\n",
      "nums=range(-60,60)\n",
      "x=[]\n",
      "y=[]\n",
      "for i in nums:\n",
      "    x.append(i/10.)\n",
      "    y.append(logistic2(i/10.))\n",
      "\n",
      "plt.plot(x,y)\n",
      "plt.show()"
     ],
     "language": "python",
     "metadata": {},
     "outputs": []
    },
    {
     "cell_type": "heading",
     "level": 3,
     "metadata": {},
     "source": [
      "Algoritmo"
     ]
    },
    {
     "cell_type": "markdown",
     "metadata": {},
     "source": [
      "Vamos a definir el algoritmo de aprendizaje \"Logistic Regression\""
     ]
    },
    {
     "cell_type": "code",
     "collapsed": false,
     "input": [
      "import numpy\n",
      "import theano\n",
      "import theano.tensor as T\n",
      "rng = numpy.random\n",
      "\n",
      "steps=300000\n",
      "feats=2\n",
      "x = T.matrix(\"x\")\n",
      "y = T.vector(\"y\")\n",
      "w = theano.shared(rng.randn(feats), name='w')\n",
      "b = theano.shared(0., name='b')\n",
      "print \"Modelo inicial:\"\n",
      "print \"W (tama\u00f1o): \" + repr(w.get_value().shape)\n",
      "print \"b (valor): \" + repr(b.get_value())\n",
      "\n",
      "import scipy.io as io\n",
      "        \n",
      "print '... cargando datos'\n",
      "data=io.loadmat('dataLR.mat',squeeze_me=True)\n",
      "dataIn=data['data'][:,0:2].astype(theano.config.floatX)\n",
      "dataOut = data['data'][:,2].astype(theano.config.floatX)\n",
      "\n",
      "'''N = 400\n",
      "feats = 2\n",
      "D = (rng.randn(N, feats), rng.randint(size=N, low=0, high=2))\n",
      "#dataIn=D[0]\n",
      "#dataOut=D[1]\n",
      "'''\n",
      "\n",
      "# Construct Theano expression graph\n",
      "p_1 = 1 / (1 + T.exp(-T.dot(x, w) - b))   # Probability that target = 1\n",
      "prediction = p_1 > 0.5                    # The prediction thresholded\n",
      "xent = -y * T.log(p_1) - (1-y) * T.log(1-p_1) # Cross-entropy loss function\n",
      "cost = xent.mean() + 0.01*(w ** 2).mean()/2. # The cost to minimize\n",
      "gw = T.grad(cost, w)             # Compute the gradient of the cost\n",
      "gb = T.grad(cost, b)                                           # (we shall return to this in a\n",
      "                                          # following section of this tutorial\n",
      "        \n",
      "# Compile\n",
      "train = theano.function(\n",
      "          inputs=[x,y],\n",
      "          outputs=prediction,\n",
      "          updates=[(w, w - 0.1 * gw),(b, b - 0.1 * gb)])\n",
      "predict = theano.function(inputs=[x], outputs=prediction)\n",
      "\n",
      "# Train\n",
      "for i in range(steps):\n",
      "    pred = train(dataIn, dataOut)\n",
      "    \n",
      "print \"Valores esperados: \", dataOut\n",
      "pp= predict(dataIn)\n",
      "print \"Valores previstos: \", pp\n",
      "\n",
      "print \"Tasa de acierto: \", map(lambda x,y:x==y, dataOut, predict(dataIn)).count(True)"
     ],
     "language": "python",
     "metadata": {},
     "outputs": [
      {
       "output_type": "stream",
       "stream": "stdout",
       "text": [
        "Modelo inicial:\n",
        "W (tama\u00f1o): (2,)\n",
        "b (valor): array(0.0)\n",
        "... cargando datos\n",
        "Valores esperados: "
       ]
      },
      {
       "output_type": "stream",
       "stream": "stdout",
       "text": [
        " [ 0.  0.  0.  1.  1.  0.  1.  1.  1.  1.  0.  0.  1.  1.  0.  1.  1.  0.\n",
        "  1.  1.  0.  1.  0.  0.  1.  1.  1.  0.  0.  0.  1.  1.  0.  1.  0.  0.\n",
        "  0.  1.  0.  0.  1.  0.  1.  0.  0.  0.  1.  1.  1.  1.  1.  1.  1.  0.\n",
        "  0.  0.  1.  0.  1.  1.  1.  0.  0.  0.  0.  0.  1.  0.  1.  1.  0.  1.\n",
        "  1.  1.  1.  1.  1.  1.  0.  0.  1.  1.  1.  1.  1.  1.  0.  1.  1.  0.\n",
        "  1.  1.  0.  1.  1.  1.  1.  1.  1.  1.]\n",
        "Valores previstos:  [0 0 0 1 1 0 1 0 1 1 1 0 1 1 0 1 0 0 1 0 0 1 0 0 1 1 0 1 0 0 1 1 0 0 0 0 1\n",
        " 1 0 0 1 0 1 0 0 0 1 1 1 1 1 1 1 0 0 0 1 0 1 1 1 0 0 0 0 0 1 0 1 0 0 1 1 1\n",
        " 1 1 1 0 0 0 1 1 1 0 1 1 0 1 1 0 1 1 0 1 1 1 1 1 0 1]\n",
        "Tasa de acierto:  88\n"
       ]
      }
     ],
     "prompt_number": 64
    },
    {
     "cell_type": "code",
     "collapsed": false,
     "input": [
      "import matplotlib.pyplot as plt\n",
      "import numpy as np\n",
      "\n",
      "x=np.zeros((100,2))\n",
      "y=np.zeros((100,2))\n",
      "for i in range(100):\n",
      "    if (pp[i]==1):\n",
      "        x[i,:]=dataIn[i,:]\n",
      "    else:\n",
      "        y[i,:]=dataIn[i,:]\n",
      "\n",
      "plt.plot(x[:,0],x[:,1],'ro', y[:,0],y[:,1],'go')\n",
      "plt.axis([25,100,25,100])\n",
      "plt.show()"
     ],
     "language": "python",
     "metadata": {},
     "outputs": [],
     "prompt_number": 65
    },
    {
     "cell_type": "code",
     "collapsed": false,
     "input": [],
     "language": "python",
     "metadata": {},
     "outputs": []
    }
   ],
   "metadata": {}
  }
 ]
}