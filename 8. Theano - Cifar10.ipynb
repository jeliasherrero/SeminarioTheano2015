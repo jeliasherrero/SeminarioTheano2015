{
 "metadata": {
  "name": "",
  "signature": "sha256:8bba3e146640794049e364a95362dcfd9b4e26564ff5062e9a057da447c61f3a"
 },
 "nbformat": 3,
 "nbformat_minor": 0,
 "worksheets": []
}