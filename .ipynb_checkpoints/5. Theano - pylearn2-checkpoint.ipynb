{
 "metadata": {
  "name": "",
  "signature": "sha256:a99e64bd099ef4c264215c28c0a43165f6336efbb882125083310f4525167008"
 },
 "nbformat": 3,
 "nbformat_minor": 0,
 "worksheets": [
  {
   "cells": [
    {
     "cell_type": "code",
     "collapsed": false,
     "input": [],
     "language": "python",
     "metadata": {},
     "outputs": []
    }
   ],
   "metadata": {}
  }
 ]
}