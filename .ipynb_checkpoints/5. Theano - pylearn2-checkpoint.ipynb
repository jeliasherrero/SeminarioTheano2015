{
 "metadata": {
  "name": "",
  "signature": "sha256:933597ffc4ffdd3be0db51ddbb2deca317faca2effb05b21e124374ee0316de0"
 },
 "nbformat": 3,
 "nbformat_minor": 0,
 "worksheets": [
  {
   "cells": [
    {
     "cell_type": "code",
     "collapsed": false,
     "input": [
      "import os\n",
      "import pylearn2\n",
      "\n",
      "with open('mlp.yaml','r') as f:\n",
      "    train = f.read()\n",
      "\n",
      "print train"
     ],
     "language": "python",
     "metadata": {},
     "outputs": []
    },
    {
     "cell_type": "code",
     "collapsed": false,
     "input": [
      "from pylearn2.config import yaml_parse\n",
      "train = yaml_parse.load(train)\n",
      "train.main_loop()"
     ],
     "language": "python",
     "metadata": {},
     "outputs": []
    },
    {
     "cell_type": "code",
     "collapsed": false,
     "input": [
      "import plot_monitor\n",
      "\n",
      "plot_monitor.run(model_paths=[\"mlp_best.pkl\"], options_out=None, show_codes=[\"train_y_misclass\"])"
     ],
     "language": "python",
     "metadata": {},
     "outputs": []
    },
    {
     "cell_type": "code",
     "collapsed": false,
     "input": [
      "import scipy.io as io\n",
      "import numpy as np\n",
      "import pylearn2\n",
      "from pylearn2.datasets.dense_design_matrix import DenseDesignMatrix\n",
      "import random as rd\n",
      "\n",
      "class XOR(DenseDesignMatrix):\n",
      "    def __init__(self):\n",
      "        self.class_names = ['0', '1']\n",
      "        X = [[rd.randint(0, 1), rd.randint(0, 1)] for _ in range(1000)]\n",
      "        y = []\n",
      "        for a, b in X:\n",
      "            if a + b == 1:\n",
      "                y.append([0, 1])\n",
      "            else:\n",
      "                y.append([1, 0])\n",
      "        X = np.array(X)\n",
      "        y = np.array(y)\n",
      "        super(XOR, self).__init__(X=X, y=y)\n",
      " \n",
      "ds = XOR()"
     ],
     "language": "python",
     "metadata": {},
     "outputs": []
    },
    {
     "cell_type": "code",
     "collapsed": false,
     "input": [
      "from pylearn2.models import mlp\n",
      "hidden_layer = mlp.Sigmoid(layer_name='hidden', dim=2, irange=.1, init_bias=1.)"
     ],
     "language": "python",
     "metadata": {},
     "outputs": []
    },
    {
     "cell_type": "code",
     "collapsed": false,
     "input": [
      "output_layer = mlp.Softmax(2, 'output', irange=.1)"
     ],
     "language": "python",
     "metadata": {},
     "outputs": []
    },
    {
     "cell_type": "code",
     "collapsed": false,
     "input": [
      "from pylearn2.training_algorithms import sgd\n",
      "from pylearn2.termination_criteria import EpochCounter\n",
      "trainer = sgd.SGD(learning_rate=.05, batch_size=10, termination_criterion=EpochCounter(400))"
     ],
     "language": "python",
     "metadata": {},
     "outputs": []
    },
    {
     "cell_type": "code",
     "collapsed": false,
     "input": [
      "layers = [hidden_layer, output_layer]\n",
      "ann = mlp.MLP(layers, nvis=2)\n",
      "trainer.setup(ann, ds)"
     ],
     "language": "python",
     "metadata": {},
     "outputs": []
    },
    {
     "cell_type": "code",
     "collapsed": false,
     "input": [
      "while True:\n",
      "    trainer.train(dataset=ds)\n",
      "    ann.monitor.report_epoch()\n",
      "    ann.monitor()\n",
      "    if not trainer.continue_learning(ann):\n",
      "        break"
     ],
     "language": "python",
     "metadata": {},
     "outputs": []
    },
    {
     "cell_type": "code",
     "collapsed": false,
     "input": [
      "import theano\n",
      "inputs = np.array([[1, 0]])\n",
      "print ann.fprop(theano.shared(inputs, name='inputs')).eval()"
     ],
     "language": "python",
     "metadata": {},
     "outputs": []
    },
    {
     "cell_type": "code",
     "collapsed": false,
     "input": [
      "import scipy.io as io\n",
      "import numpy as np\n",
      "from pylearn2.datasets.dense_design_matrix import DenseDesignMatrix\n",
      "import random as rd\n",
      "from random import randrange\n",
      "\n",
      "class matlabData(DenseDesignMatrix):\n",
      "    def __init__(self):\n",
      "        self.class_names = ['0', '1']\n",
      "        data=io.loadmat('digits.mat',squeeze_me=True)\n",
      "        \n",
      "        X = data['X']\n",
      "        y = data['yp']\n",
      "        \n",
      "        xx=np.zeros((X.shape))\n",
      "        yy=np.zeros((y.shape))\n",
      "        for i in range((X.shape[0])):\n",
      "            rd_index=randrange(0,X.shape[0])\n",
      "            xx[i]=X[rd_index]\n",
      "            yy[i]=y[rd_index]\n",
      "\n",
      "        super(matlabData, self).__init__(X=xx, y=yy)\n",
      " \n",
      "ds = matlabData()"
     ],
     "language": "python",
     "metadata": {},
     "outputs": []
    },
    {
     "cell_type": "code",
     "collapsed": false,
     "input": [
      "from pylearn2.models import mlp\n",
      "first_layer = mlp.Sigmoid(layer_name='hidden1', dim=25, irange=.05, init_bias=1.)"
     ],
     "language": "python",
     "metadata": {},
     "outputs": []
    },
    {
     "cell_type": "code",
     "collapsed": false,
     "input": [
      "second_layer = mlp.Sigmoid(layer_name='hidden2', dim=26, irange=.05, init_bias=1.)"
     ],
     "language": "python",
     "metadata": {},
     "outputs": []
    },
    {
     "cell_type": "code",
     "collapsed": false,
     "input": [
      "output_layer = mlp.Softmax(10, 'output', irange=.05)"
     ],
     "language": "python",
     "metadata": {},
     "outputs": []
    },
    {
     "cell_type": "code",
     "collapsed": false,
     "input": [
      "from pylearn2.training_algorithms import sgd\n",
      "from pylearn2.termination_criteria import EpochCounter\n",
      "trainer = sgd.SGD(learning_rate=.05, batch_size=100, termination_criterion=EpochCounter(1000))"
     ],
     "language": "python",
     "metadata": {},
     "outputs": []
    },
    {
     "cell_type": "code",
     "collapsed": false,
     "input": [
      "layers = [first_layer,output_layer]\n",
      "ann = mlp.MLP(layers, nvis=400)\n",
      "trainer.setup(ann, ds)"
     ],
     "language": "python",
     "metadata": {},
     "outputs": []
    },
    {
     "cell_type": "code",
     "collapsed": false,
     "input": [
      "while True:\n",
      "    trainer.train(dataset=ds)\n",
      "    #ann.monitor.report_epoch()\n",
      "    #ann.monitor()\n",
      "    if not trainer.continue_learning(ann):\n",
      "        break"
     ],
     "language": "python",
     "metadata": {},
     "outputs": []
    },
    {
     "cell_type": "code",
     "collapsed": false,
     "input": [
      "import theano\n",
      "data=io.loadmat('digits.mat',squeeze_me=True)\n",
      "X = data['X'][4001:5000,:]\n",
      "y = data['y'][4001:5000]\n",
      "\n",
      "predict=ann.fprop(theano.shared(X, name='inputs')).eval()\n",
      "\n",
      "test= np.argmax(predict, axis=1)+1\n",
      "print test\n",
      "print y\n",
      "print map(lambda x,y:x==y, y, test).count(True)/1000.\n"
     ],
     "language": "python",
     "metadata": {},
     "outputs": []
    },
    {
     "cell_type": "code",
     "collapsed": false,
     "input": [
      "import matplotlib.pyplot as plt\n",
      "import numpy as np\n",
      "\n",
      "x=range(999)\n",
      "\n",
      "plt.plot(x,test,'rx')\n",
      "plt.show()"
     ],
     "language": "python",
     "metadata": {},
     "outputs": []
    },
    {
     "cell_type": "code",
     "collapsed": false,
     "input": [
      "import scipy.io as io\n",
      "import numpy as np\n",
      "from pylearn2.datasets.dense_design_matrix import DenseDesignMatrix\n",
      "import random as rd\n",
      "from random import randrange\n",
      "\n",
      "class matlabData(DenseDesignMatrix):\n",
      "    def __init__(self):\n",
      "        self.class_names = ['0', '1']\n",
      "        data=io.loadmat('digits.mat',squeeze_me=True)\n",
      "        \n",
      "        X = data['X']\n",
      "        y = data['yp']\n",
      "        \n",
      "        xx=np.zeros((X.shape))\n",
      "        yy=np.zeros((y.shape))\n",
      "        for i in range((X.shape[0])):\n",
      "            rd_index=randrange(0,X.shape[0])\n",
      "            xx[i]=X[rd_index]\n",
      "            yy[i]=y[rd_index]\n",
      "\n",
      "        super(matlabData, self).__init__(X=xx, y=yy)\n",
      " \n",
      "ds = matlabData()"
     ],
     "language": "python",
     "metadata": {},
     "outputs": []
    },
    {
     "cell_type": "code",
     "collapsed": false,
     "input": [
      "first_layer = mlp.ConvRectifiedLinear(layer_name='conv1', output_channels=64, irange= .05, \n",
      "                                      kernel_shape= [5, 5],pool_shape= [4, 4],\n",
      "                                      pool_stride= [2, 2],max_kernel_norm= 1.9365)"
     ],
     "language": "python",
     "metadata": {},
     "outputs": []
    },
    {
     "cell_type": "code",
     "collapsed": false,
     "input": [
      "second_layer = mlp.ConvRectifiedLinear(layer_name='conv2', output_channels=64, irange= .05, \n",
      "                                      kernel_shape= [5, 5],pool_shape= [4, 4],\n",
      "                                      pool_stride= [2, 2],max_kernel_norm= 1.9365)"
     ],
     "language": "python",
     "metadata": {},
     "outputs": []
    },
    {
     "cell_type": "code",
     "collapsed": false,
     "input": [
      "output_layer = mlp.Softmax(max_col_norm= 1.9365,\n",
      "                     layer_name= 'output',\n",
      "                     n_classes= 10,\n",
      "                     istdev= .05)"
     ],
     "language": "python",
     "metadata": {},
     "outputs": []
    },
    {
     "cell_type": "code",
     "collapsed": false,
     "input": [
      "from pylearn2.training_algorithms.learning_rule import Momentum\n",
      "from pylearn2.costs.cost import SumOfCosts\n",
      "from pylearn2.costs.cost import MethodCost\n",
      "from pylearn2.costs.mlp import WeightDecay\n",
      "from pylearn2.termination_criteria import And\n",
      "from pylearn2.termination_criteria import EpochCounter\n",
      "\n",
      "trainer = sgd.SGD(learning_rate=.01, batch_size=100, \n",
      "                  learning_rule=Momentum(init_momentum=0.5),\n",
      "                  cost=SumOfCosts(costs=[\n",
      "                        MethodCost(method='cost_from_X'),\n",
      "                        WeightDecay(coeffs=[.00005, .00005, .00005])\n",
      "                  ]),\n",
      "                  termination_criterion=And(criteria=[\n",
      "                        EpochCounter(max_epochs=500)\n",
      "                  ]))"
     ],
     "language": "python",
     "metadata": {},
     "outputs": []
    },
    {
     "cell_type": "code",
     "collapsed": false,
     "input": [
      "from pylearn2.space import Conv2DSpace\n",
      "\n",
      "entrada=Conv2DSpace(shape=[20,20],num_channels=1)\n",
      "layers = [first_layer,second_layer,output_layer]\n",
      "ann = mlp.MLP(layers=layers,batch_size=100,input_space=entrada)\n",
      "trainer.setup(ann, ds)"
     ],
     "language": "python",
     "metadata": {},
     "outputs": []
    },
    {
     "cell_type": "code",
     "collapsed": false,
     "input": [],
     "language": "python",
     "metadata": {},
     "outputs": []
    }
   ],
   "metadata": {}
  }
 ]
}