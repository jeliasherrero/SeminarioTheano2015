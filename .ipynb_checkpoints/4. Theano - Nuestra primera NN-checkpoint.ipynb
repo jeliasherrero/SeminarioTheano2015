{
 "metadata": {
  "name": "",
  "signature": "sha256:d4d46b98ddc744f407502a7d063808495625e79d59867e56d7099cb24e0dfe0f"
 },
 "nbformat": 3,
 "nbformat_minor": 0,
 "worksheets": [
  {
   "cells": [
    {
     "cell_type": "heading",
     "level": 1,
     "metadata": {},
     "source": [
      "Theano - Nuestra primera red neuronal"
     ]
    },
    {
     "cell_type": "markdown",
     "metadata": {},
     "source": [
      "En este caso, vamos a trabajar con los mismos datos a los utilizados en el ejemplo de Logistic Regression pero usando un perceptr\u00f3n multi-capa.\n",
      "\n",
      "Cargamos los datos de igual forma que antes:"
     ]
    },
    {
     "cell_type": "code",
     "collapsed": false,
     "input": [
      "import numpy\n",
      "import theano\n",
      "import theano.tensor as T\n",
      "import scipy.io as io\n",
      "        \n",
      "print '... cargando datos'\n",
      "data=io.loadmat('dataLR.mat',squeeze_me=True)\n",
      "dataIn=data['data'][:,0:2].astype(theano.config.floatX)\n",
      "dataOut = data['data'][:,2].astype(theano.config.floatX)"
     ],
     "language": "python",
     "metadata": {},
     "outputs": []
    },
    {
     "cell_type": "heading",
     "level": 2,
     "metadata": {},
     "source": [
      "Clase CapaOculta"
     ]
    },
    {
     "cell_type": "code",
     "collapsed": false,
     "input": [
      "class CapaOculta(object):\n",
      "    def __init__(self, rng, input, n_in, n_out, W=None, b=None,\n",
      "                 activation=T.tanh):\n",
      "        \"\"\"\n",
      "        Capa oculta t\u00edpica de un MLP: las neuronas est\u00e1n todas conectadas y tienen una funci\u00f3n de activaci\u00f3n simoidea.\n",
      "        La matriz de pesos \"W\" es de la forma (n_in,n_out)\n",
      "        y el vector bias \"b\" (n_out,).\n",
      "\n",
      "        Nota : Usamos TANH\n",
      "\n",
      "        La funci\u00f3n de activaci\u00f3n viene dada por: tanh(dot(input,W) + b)\n",
      "\n",
      "        :type rng: numpy.random.RandomState\n",
      "        :param rng: Generador de n\u00famero aleatorios para inicializar los pesos\n",
      "\n",
      "        :type input: theano.tensor.dmatrix\n",
      "        :param input: Un tensor simb\u00f3lico para definir los datos de entrada (n_examples, n_in)\n",
      "\n",
      "        :type n_in: int\n",
      "        :param n_in: dimensionalidad de la entrada\n",
      "\n",
      "        :type n_out: int\n",
      "        :param n_out: n\u00famero de neuronas ocultas\n",
      "\n",
      "        :type activation: theano.Op or function\n",
      "        :param activation: Funci\u00f3n usada en la capa oculta\n",
      "        \"\"\"\n",
      "        self.input = input\n",
      "       \n",
      "        if W is None:\n",
      "            W_values = numpy.asarray(\n",
      "                rng.uniform(\n",
      "                    low=-numpy.sqrt(6. / (n_in + n_out)),\n",
      "                    high=numpy.sqrt(6. / (n_in + n_out)),\n",
      "                    size=(n_in, n_out)\n",
      "                ),\n",
      "                dtype=theano.config.floatX  # @UndefinedVariable\n",
      "            )\n",
      "            if activation == T.nnet.sigmoid:\n",
      "                W_values *= 4\n",
      "\n",
      "            W = theano.shared(value=W_values, name='W', borrow=True)\n",
      "\n",
      "        if b is None:\n",
      "            b_values = numpy.zeros((n_out,), dtype=theano.config.floatX)\n",
      "            b = theano.shared(value=b_values, name='b', borrow=True)\n",
      "\n",
      "        self.W = W\n",
      "        self.b = b\n",
      "\n",
      "        lin_output = T.dot(input, self.W) + self.b\n",
      "        self.output = (\n",
      "            lin_output if activation is None\n",
      "            else activation(lin_output)\n",
      "        )\n",
      "        #Par\u00e1metros del modelo\n",
      "        self.params = [self.W, self.b]\n"
     ],
     "language": "python",
     "metadata": {},
     "outputs": []
    },
    {
     "cell_type": "code",
     "collapsed": false,
     "input": [
      "Clase MLP"
     ],
     "language": "python",
     "metadata": {},
     "outputs": []
    }
   ],
   "metadata": {}
  }
 ]
}