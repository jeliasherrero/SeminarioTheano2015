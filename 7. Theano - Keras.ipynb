{
 "metadata": {
  "name": "",
  "signature": "sha256:efeb69693e09406e17536dea5937737d297f88737e53d173de64436383bf3f8c"
 },
 "nbformat": 3,
 "nbformat_minor": 0,
 "worksheets": [
  {
   "cells": [
    {
     "cell_type": "heading",
     "level": 1,
     "metadata": {},
     "source": [
      "Utilizando la librer\u00eda KERAS"
     ]
    },
    {
     "cell_type": "markdown",
     "metadata": {},
     "source": [
      "En este Notebook vamos a utlizar la librer\u00eda Keras para realizar un entrenamiento de una red convolucional de los datos recogidos en CIFAR10.\n",
      "\n",
      "<img src=\"images/keras.png\"></img>\n",
      "\n",
      "Los componentes que vamos a usar son la Convoluci\u00f3n 2D y el MaxPooling2D, ya vistos en anteriores Notebooks. Y vamos a empezar a publicar nuevos \"procesamientos\":\n",
      "\n",
      "<ul>\n",
      "<li>RELU</li>\n",
      "<li>DropOut</li>\n",
      "</ul>"
     ]
    },
    {
     "cell_type": "heading",
     "level": 2,
     "metadata": {},
     "source": [
      "Convoluci\u00f3n 2D"
     ]
    },
    {
     "cell_type": "heading",
     "level": 3,
     "metadata": {},
     "source": [
      "Par\u00e1metros de entrada"
     ]
    },
    {
     "cell_type": "markdown",
     "metadata": {},
     "source": [
      "nb_filter:\n",
      "\n",
      "stack_size: RGB -> 3, Gris -> 1\n",
      "\n",
      "nb_row: Tama\u00f1o (filas) de la m\u00e1scara (W)\n",
      "\n",
      "nb_col: Tama\u00f1o (columnas) de la m\u00e1scara (W)\n",
      "\n",
      "init='uniform': Pueden ser uniform, normal, lecun_uniform, orthogonal\n",
      "\n",
      "activation='linear': Pueden ser softmax, softplus, relu, tanh, sigmoid, linear...\n",
      "\n",
      "weights=None\n",
      "\n",
      "image_shape=None\n",
      "\n",
      "border_mode='valid': Puede ser valid o full\n",
      "\n",
      "subsample=(1,1): Subsampleado empleado en la funci\u00f3n conv2D de theano"
     ]
    },
    {
     "cell_type": "heading",
     "level": 2,
     "metadata": {},
     "source": [
      "RELU"
     ]
    },
    {
     "cell_type": "markdown",
     "metadata": {},
     "source": [
      "Es un tipo de activaci\u00f3n del tipo:\n",
      "\n",
      "(x+abs(x))/2.0\n",
      "\n",
      "<img src=\"http://qph.is.quoracdn.net/main-qimg-cf46ade91ad2015b78270bdff4fd7362?convert_to_webp=true\"></img>\n",
      "\n",
      "Referencia sobre las ventajas del uso de las activaciones tipo <strong>Rectificadores lineales</strong>:\n",
      "\n",
      "The advantages of using Rectified Linear Units in neural networks are:\n",
      "\n",
      "<ul>\n",
      "<li>If hard max function is used as activation function, it  induces the sparsity in the hidden units.</li>\n",
      "<li>ReLU doesn't face gradient vanishing problem as with sigmoid and tanh function. Also, It has been shown that deep networks can be trained efficiently using ReLU even without pre-training.</li>\n",
      "<li>ReLU can be used in Restricted Boltzmann machine to model real/integer valued inputs.</li>\n",
      "\n",
      "http://www.quora.com/What-is-special-about-rectifier-neural-units-used-in-NN-learning"
     ]
    },
    {
     "cell_type": "heading",
     "level": 2,
     "metadata": {},
     "source": [
      "DropOut"
     ]
    },
    {
     "cell_type": "markdown",
     "metadata": {},
     "source": [
      "Es un m\u00e9todo simple para evitar el overfitting."
     ]
    },
    {
     "cell_type": "heading",
     "level": 2,
     "metadata": {},
     "source": [
      "Implementaci\u00f3n"
     ]
    },
    {
     "cell_type": "heading",
     "level": 3,
     "metadata": {},
     "source": [
      "Cargamos las librerias necesarias"
     ]
    },
    {
     "cell_type": "code",
     "collapsed": false,
     "input": [
      "from keras.datasets import cifar10\n",
      "from keras.preprocessing.image import ImageDataGenerator\n",
      "from keras.models import Sequential\n",
      "from keras.layers.core import Dense, Dropout, Activation, Flatten\n",
      "from keras.layers.convolutional import Convolution2D, MaxPooling2D\n",
      "from keras.optimizers import SGD, Adadelta, Adagrad\n",
      "from keras.utils import np_utils, generic_utils"
     ],
     "language": "python",
     "metadata": {},
     "outputs": []
    },
    {
     "cell_type": "heading",
     "level": 3,
     "metadata": {},
     "source": [
      "Par\u00e1metros"
     ]
    },
    {
     "cell_type": "code",
     "collapsed": false,
     "input": [
      "batch_size = 1000\n",
      "nb_classes = 10\n",
      "nb_epoch = 2\n",
      "data_augmentation = False"
     ],
     "language": "python",
     "metadata": {},
     "outputs": []
    },
    {
     "cell_type": "heading",
     "level": 3,
     "metadata": {},
     "source": [
      "Cargamos los datos"
     ]
    },
    {
     "cell_type": "code",
     "collapsed": false,
     "input": [
      "(X_train, y_train), (X_test, y_test) = cifar10.load_data(test_split=0.1)\n",
      "print X_train.shape[0], 'train samples'\n",
      "print X_test.shape[0], 'test samples'"
     ],
     "language": "python",
     "metadata": {},
     "outputs": []
    },
    {
     "cell_type": "heading",
     "level": 3,
     "metadata": {},
     "source": [
      "Convertimos los vectores a matrices binarias"
     ]
    },
    {
     "cell_type": "code",
     "collapsed": false,
     "input": [
      "Y_train = np_utils.to_categorical(y_train, nb_classes)\n",
      "Y_test = np_utils.to_categorical(y_test, nb_classes)"
     ],
     "language": "python",
     "metadata": {},
     "outputs": []
    },
    {
     "cell_type": "heading",
     "level": 3,
     "metadata": {},
     "source": [
      "Creamos el modelo"
     ]
    },
    {
     "cell_type": "code",
     "collapsed": false,
     "input": [
      "model = Sequential()\n",
      "\n",
      "model.add(Convolution2D(32, 3, 3, 3, border_mode='full')) \n",
      "model.add(Activation('relu'))\n",
      "model.add(Convolution2D(32, 32, 3, 3))\n",
      "model.add(Activation('relu'))\n",
      "model.add(MaxPooling2D(poolsize=(2, 2)))\n",
      "model.add(Dropout(0.25))\n",
      "\n",
      "model.add(Convolution2D(64, 32, 3, 3, border_mode='full')) \n",
      "model.add(Activation('relu'))\n",
      "model.add(Convolution2D(64, 64, 3, 3)) \n",
      "model.add(Activation('relu'))\n",
      "model.add(MaxPooling2D(poolsize=(2, 2)))\n",
      "model.add(Dropout(0.25))\n",
      "\n",
      "model.add(Flatten(64*8*8))\n",
      "model.add(Dense(64*8*8, 512, init='normal'))\n",
      "model.add(Activation('relu'))\n",
      "model.add(Dropout(0.5))\n",
      "\n",
      "model.add(Dense(512, nb_classes, init='normal'))\n",
      "model.add(Activation('softmax'))"
     ],
     "language": "python",
     "metadata": {},
     "outputs": []
    },
    {
     "cell_type": "heading",
     "level": 3,
     "metadata": {},
     "source": [
      "Entrenamos el modelo con SGD"
     ]
    },
    {
     "cell_type": "code",
     "collapsed": false,
     "input": [
      "sgd = SGD(lr=0.01, decay=1e-7, momentum=0.9, nesterov=True)\n",
      "model.compile(loss='categorical_crossentropy', optimizer=sgd)"
     ],
     "language": "python",
     "metadata": {},
     "outputs": []
    },
    {
     "cell_type": "heading",
     "level": 3,
     "metadata": {},
     "source": [
      "Entrenamos"
     ]
    },
    {
     "cell_type": "code",
     "collapsed": false,
     "input": [
      "if not data_augmentation:\n",
      "    print \"Not using data augmentation or normalization\"\n",
      "\n",
      "    X_train = X_train.astype(\"float32\")\n",
      "    X_test = X_train.astype(\"float32\")\n",
      "    X_train /= 255\n",
      "    X_test /= 255\n",
      "    print X_train[0]\n",
      "    model.fit(X_train, Y_train, batch_size=batch_size, nb_epoch=10)\n",
      "    score = model.evaluate(X_test, Y_test, batch_size=batch_size)\n",
      "    print 'Test score:', score\n",
      "else:\n",
      "    print \"Using real time data augmentation\"\n",
      "\n",
      "    # this will do preprocessing and realtime data augmentation\n",
      "    datagen = ImageDataGenerator(\n",
      "        featurewise_center=True, # set input mean to 0 over the dataset\n",
      "        samplewise_center=False, # set each sample mean to 0\n",
      "        featurewise_std_normalization=True, # divide inputs by std of the dataset\n",
      "        samplewise_std_normalization=False, # divide each input by its std\n",
      "        zca_whitening=False, # apply ZCA whitening\n",
      "        rotation_range=20, # randomly rotate images in the range (degrees, 0 to 180)\n",
      "        width_shift_range=0.2, # randomly shift images horizontally (fraction of total width)\n",
      "        height_shift_range=0.2, # randomly shift images vertically (fraction of total height)\n",
      "        horizontal_flip=True, # randomly flip images\n",
      "        vertical_flip=False) # randomly flip images\n",
      "\n",
      "    # compute quantities required for featurewise normalization \n",
      "    # (std, mean, and principal components if ZCA whitening is applied)\n",
      "    datagen.fit(X_train)\n",
      "\n",
      "    for e in range(nb_epoch):\n",
      "        print '-'*40\n",
      "        print 'Epoch', e\n",
      "        print '-'*40\n",
      "        print \"Training...\"\n",
      "        # batch train with realtime data augmentation\n",
      "        progbar = generic_utils.Progbar(X_train.shape[0])\n",
      "        for X_batch, Y_batch in datagen.flow(X_train, Y_train):\n",
      "            loss = model.train(X_batch, Y_batch)\n",
      "            progbar.add(X_batch.shape[0], values=[(\"train loss\", loss)])"
     ],
     "language": "python",
     "metadata": {},
     "outputs": []
    },
    {
     "cell_type": "heading",
     "level": 3,
     "metadata": {},
     "source": [
      "Testeamos"
     ]
    },
    {
     "cell_type": "code",
     "collapsed": false,
     "input": [
      "print \"Testing...\"\n",
      "# test time!\n",
      "progbar = generic_utils.Progbar(X_test.shape[0])\n",
      "for X_batch, Y_batch in datagen.flow(X_test, Y_test):\n",
      "    score = model.test(X_batch, Y_batch)\n",
      "    progbar.add(X_batch.shape[0], values=[(\"test loss\", score)])"
     ],
     "language": "python",
     "metadata": {},
     "outputs": []
    }
   ],
   "metadata": {}
  }
 ]
}