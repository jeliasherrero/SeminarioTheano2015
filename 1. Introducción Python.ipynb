{
 "metadata": {
  "name": "",
  "signature": "sha256:e4030f51b9166095f7dcf7b08501a5a025f47443b3010ac64853a86d3847826c"
 },
 "nbformat": 3,
 "nbformat_minor": 0,
 "worksheets": [
  {
   "cells": [
    {
     "cell_type": "heading",
     "level": 1,
     "metadata": {},
     "source": [
      "Introducci\u00f3n a Python"
     ]
    },
    {
     "cell_type": "heading",
     "level": 2,
     "metadata": {},
     "source": [
      "Operadores"
     ]
    },
    {
     "cell_type": "markdown",
     "metadata": {},
     "source": [
      "The Python interpreter can be used to evaluate expressions, for example simple arithmetic expressions. If you enter such expressions at the prompt (>>>) they will be evaluated and the result will be returned on the next line."
     ]
    },
    {
     "cell_type": "code",
     "collapsed": false,
     "input": [
      "1+1"
     ],
     "language": "python",
     "metadata": {},
     "outputs": []
    },
    {
     "cell_type": "code",
     "collapsed": false,
     "input": [
      "1 and 1"
     ],
     "language": "python",
     "metadata": {},
     "outputs": []
    },
    {
     "cell_type": "heading",
     "level": 2,
     "metadata": {},
     "source": [
      "Cadenas de texto"
     ]
    },
    {
     "cell_type": "markdown",
     "metadata": {},
     "source": [
      "The Python interpreter can be used to evaluate expressions, for example simple arithmetic expressions. If you enter such expressions at the prompt (>>>) they will be evaluated and the result will be returned on the next line."
     ]
    },
    {
     "cell_type": "code",
     "collapsed": false,
     "input": [
      "'artificial' + \"intelligence\""
     ],
     "language": "python",
     "metadata": {},
     "outputs": []
    },
    {
     "cell_type": "code",
     "collapsed": false,
     "input": [
      "'artificial'.upper()"
     ],
     "language": "python",
     "metadata": {},
     "outputs": []
    },
    {
     "cell_type": "code",
     "collapsed": false,
     "input": [
      "s='hello world'\n",
      "len(s.upper())"
     ],
     "language": "python",
     "metadata": {},
     "outputs": []
    },
    {
     "cell_type": "code",
     "collapsed": false,
     "input": [
      "help(s.find)"
     ],
     "language": "python",
     "metadata": {},
     "outputs": []
    },
    {
     "cell_type": "heading",
     "level": 2,
     "metadata": {},
     "source": [
      "Estructuras complejas"
     ]
    },
    {
     "cell_type": "heading",
     "level": 3,
     "metadata": {},
     "source": [
      "Listas"
     ]
    },
    {
     "cell_type": "code",
     "collapsed": false,
     "input": [
      "fruits = ['apple','orange','pear','banana']\n",
      "fruits[0]"
     ],
     "language": "python",
     "metadata": {},
     "outputs": []
    },
    {
     "cell_type": "code",
     "collapsed": false,
     "input": [
      "otherFruits = ['kiwi','strawberry']\n",
      "fruits+otherFruits"
     ],
     "language": "python",
     "metadata": {},
     "outputs": []
    },
    {
     "cell_type": "code",
     "collapsed": false,
     "input": [
      "fruits[0:2]"
     ],
     "language": "python",
     "metadata": {},
     "outputs": []
    },
    {
     "cell_type": "code",
     "collapsed": false,
     "input": [
      "fruits[:3]"
     ],
     "language": "python",
     "metadata": {},
     "outputs": []
    },
    {
     "cell_type": "code",
     "collapsed": false,
     "input": [
      "fruits[2:]"
     ],
     "language": "python",
     "metadata": {},
     "outputs": []
    },
    {
     "cell_type": "code",
     "collapsed": false,
     "input": [
      "len(fruits)"
     ],
     "language": "python",
     "metadata": {},
     "outputs": []
    },
    {
     "cell_type": "heading",
     "level": 3,
     "metadata": {},
     "source": [
      "Listas de listas"
     ]
    },
    {
     "cell_type": "code",
     "collapsed": false,
     "input": [
      "lstOfLsts = [['a','b','c'],[1,2,3],['one','two','three']] \n",
      "lstOfLsts"
     ],
     "language": "python",
     "metadata": {},
     "outputs": []
    },
    {
     "cell_type": "code",
     "collapsed": false,
     "input": [
      "lstOfLsts[2][2]"
     ],
     "language": "python",
     "metadata": {},
     "outputs": []
    },
    {
     "cell_type": "heading",
     "level": 4,
     "metadata": {},
     "source": [
      "Ejercicio:"
     ]
    },
    {
     "cell_type": "markdown",
     "metadata": {},
     "source": [
      "Dada esta lista:"
     ]
    },
    {
     "cell_type": "code",
     "collapsed": false,
     "input": [
      "lst = ['a','b','c']"
     ],
     "language": "python",
     "metadata": {},
     "outputs": []
    },
    {
     "cell_type": "markdown",
     "metadata": {},
     "source": [
      "Invertir el orden (c,b,a)"
     ]
    },
    {
     "cell_type": "code",
     "collapsed": false,
     "input": [
      "print 'Ayuda'\n",
      "dir(list)"
     ],
     "language": "python",
     "metadata": {},
     "outputs": []
    },
    {
     "cell_type": "code",
     "collapsed": false,
     "input": [],
     "language": "python",
     "metadata": {},
     "outputs": []
    },
    {
     "cell_type": "heading",
     "level": 3,
     "metadata": {},
     "source": [
      "Tuples"
     ]
    },
    {
     "cell_type": "code",
     "collapsed": false,
     "input": [
      "pair = (3,5)\n",
      "pair(0)"
     ],
     "language": "python",
     "metadata": {},
     "outputs": []
    },
    {
     "cell_type": "code",
     "collapsed": false,
     "input": [
      "x,y=pair"
     ],
     "language": "python",
     "metadata": {},
     "outputs": []
    },
    {
     "cell_type": "heading",
     "level": 4,
     "metadata": {},
     "source": [
      "Ejercicio:"
     ]
    },
    {
     "cell_type": "markdown",
     "metadata": {},
     "source": [
      "Imprimir en pantalla el valor de x e y como \"x=3 e y=5\""
     ]
    },
    {
     "cell_type": "code",
     "collapsed": false,
     "input": [],
     "language": "python",
     "metadata": {},
     "outputs": []
    },
    {
     "cell_type": "heading",
     "level": 3,
     "metadata": {},
     "source": [
      "Sets"
     ]
    },
    {
     "cell_type": "markdown",
     "metadata": {},
     "source": [
      "Un set es otro tipo de estructura de tipo lista no ordenada con <strong>elementos no duplicados</strong>"
     ]
    },
    {
     "cell_type": "code",
     "collapsed": false,
     "input": [
      "shapes = ['circulo','cuadrado','triangulo','circulo']\n",
      "shapes"
     ],
     "language": "python",
     "metadata": {},
     "outputs": []
    },
    {
     "cell_type": "code",
     "collapsed": false,
     "input": [
      "'rombo' in setOfShapes "
     ],
     "language": "python",
     "metadata": {},
     "outputs": []
    },
    {
     "cell_type": "heading",
     "level": 3,
     "metadata": {},
     "source": [
      "Diccionarios"
     ]
    },
    {
     "cell_type": "code",
     "collapsed": false,
     "input": [
      "studentIds = {'knuth': 42.0, 'turing': 56.0, 'nash': 92.0 }\n",
      "studentIds['turing']"
     ],
     "language": "python",
     "metadata": {},
     "outputs": []
    },
    {
     "cell_type": "heading",
     "level": 4,
     "metadata": {},
     "source": [
      "Matlab"
     ]
    },
    {
     "cell_type": "markdown",
     "metadata": {},
     "source": [
      "Cuando importamos un .mat desde Matlab, los datos vienen en un diccionario. <strong>\u00bfC\u00f3mo importamos de matlab?</strong>\n",
      "Usamos scipy, y su paquete \"io\" para usar la funci\u00f3n <strong>loadmat</strong>"
     ]
    },
    {
     "cell_type": "code",
     "collapsed": false,
     "input": [
      "import scipy.io as io\n",
      "data=io.loadmat('MLPData.mat',squeeze_me=True)"
     ],
     "language": "python",
     "metadata": {},
     "outputs": []
    },
    {
     "cell_type": "markdown",
     "metadata": {},
     "source": [
      "Analiza los datos que recibimos en \"data\" (utiliza la funci\u00f3n shape del tipo de datos ndarray)"
     ]
    },
    {
     "cell_type": "code",
     "collapsed": false,
     "input": [],
     "language": "python",
     "metadata": {},
     "outputs": []
    },
    {
     "cell_type": "heading",
     "level": 3,
     "metadata": {},
     "source": [
      "Bucles"
     ]
    },
    {
     "cell_type": "code",
     "collapsed": false,
     "input": [
      "fruits = ['apples','oranges','pears','bananas']\n",
      "for fruit in fruits:\n",
      "    print fruit + ' for sale'"
     ],
     "language": "python",
     "metadata": {},
     "outputs": []
    },
    {
     "cell_type": "code",
     "collapsed": false,
     "input": [
      "fruitPrices = {'apples': 2.00, 'oranges': 1.50, 'pears': 1.75}\n",
      "for fruit, price in fruitPrices.items():\n",
      "    if price < 2.00:\n",
      "        print '%s cost %f a pound' % (fruit, price)\n",
      "    else:\n",
      "        print fruit + ' are too expensive!'"
     ],
     "language": "python",
     "metadata": {},
     "outputs": []
    },
    {
     "cell_type": "heading",
     "level": 4,
     "metadata": {},
     "source": [
      "Lambda"
     ]
    },
    {
     "cell_type": "markdown",
     "metadata": {},
     "source": [
      "Lo primero que aprenderemos es la funci\u00f3n <strong>map</strong>\n",
      "\n",
      "\n",
      "      map(function, iterable, ...)\n",
      "      \n",
      "      Aplica una funci\u00f3n cualquiera (function) a un conjunto de datos (iterable).\n",
      "      La funci\u00f3n la podemos crear de cualquier forma, pero una de ellas ser\u00eda utilizando una funci\u00f3n lambda:"
     ]
    },
    {
     "cell_type": "code",
     "collapsed": false,
     "input": [
      "x=lambda x: x*x"
     ],
     "language": "python",
     "metadata": {},
     "outputs": []
    },
    {
     "cell_type": "code",
     "collapsed": false,
     "input": [
      "y=lambda x: x>3"
     ],
     "language": "python",
     "metadata": {},
     "outputs": []
    },
    {
     "cell_type": "markdown",
     "metadata": {},
     "source": [
      "Ejemplos:"
     ]
    },
    {
     "cell_type": "code",
     "collapsed": false,
     "input": [
      "map(x,[1,2,3])"
     ],
     "language": "python",
     "metadata": {},
     "outputs": []
    },
    {
     "cell_type": "code",
     "collapsed": false,
     "input": [
      "map(y, [1,2,3,4,5,4,3,2,1])"
     ],
     "language": "python",
     "metadata": {},
     "outputs": []
    },
    {
     "cell_type": "markdown",
     "metadata": {},
     "source": [
      "Y usando la funci\u00f3n filter:\n",
      "<strong>filter(function, iterable)</strong>\n",
      "\n",
      "    Construct a list from those elements of iterable for which function returns true. iterable may be either a sequence, a container which supports iteration, or an iterator. If iterable is a string or a tuple, the result also has that type; otherwise it is always a list. If function is None, the identity function is assumed, that is, all elements of iterable that are false are removed."
     ]
    },
    {
     "cell_type": "code",
     "collapsed": false,
     "input": [
      "filter(y, [1,2,3,4,5,4,3,2,1])"
     ],
     "language": "python",
     "metadata": {},
     "outputs": []
    },
    {
     "cell_type": "heading",
     "level": 4,
     "metadata": {},
     "source": [
      "M\u00e1s tipos de bucles"
     ]
    },
    {
     "cell_type": "code",
     "collapsed": false,
     "input": [
      "for index in range(3):\n",
      "    print lst[index]"
     ],
     "language": "python",
     "metadata": {},
     "outputs": []
    },
    {
     "cell_type": "heading",
     "level": 4,
     "metadata": {},
     "source": [
      "Ejercicio:"
     ]
    },
    {
     "cell_type": "markdown",
     "metadata": {},
     "source": [
      "Calcular los n\u00fameros primos entre 2 y 50:\n",
      "Consejo: Comprobamos que el n\u00famero es igual a uno de los n\u00fameros del 2 al 7, o tiene resto distinto de cero con estos n\u00fameros."
     ]
    },
    {
     "cell_type": "code",
     "collapsed": false,
     "input": [
      "nums = range(2, 50) \n",
      "for i in range(2, 8): \n",
      "    nums = filter(lambda x: ..., nums)\n",
      "\n",
      "print nums"
     ],
     "language": "python",
     "metadata": {},
     "outputs": []
    },
    {
     "cell_type": "heading",
     "level": 2,
     "metadata": {},
     "source": [
      "Clases"
     ]
    },
    {
     "cell_type": "markdown",
     "metadata": {},
     "source": [
      "Antes de comenzar con las clases aprenderemos como trabajar con funciones."
     ]
    },
    {
     "cell_type": "heading",
     "level": 3,
     "metadata": {},
     "source": [
      "Funciones"
     ]
    },
    {
     "cell_type": "markdown",
     "metadata": {},
     "source": [
      "Una funci\u00f3n se define con el calificativo \"def\".\n",
      "\n",
      "Por ejemplo, queremos hacer una funci\u00f3n que nos devuelva el mayor de dos par\u00e1metros de entrada:"
     ]
    },
    {
     "cell_type": "code",
     "collapsed": false,
     "input": [
      "def mayor(param1, param2):\n",
      "    if (param1>param2)\n",
      "        return param1;\n",
      "    else\n",
      "        return param2;"
     ],
     "language": "python",
     "metadata": {},
     "outputs": []
    },
    {
     "cell_type": "code",
     "collapsed": false,
     "input": [
      "pares = range(2,20,2)\n",
      "impares = range(1,19,2)\n",
      "impares.reverse()\n",
      "for index in pares:\n",
      "    nums=map(mayor,pares,impares)\n",
      "\n",
      "nums"
     ],
     "language": "python",
     "metadata": {},
     "outputs": []
    },
    {
     "cell_type": "markdown",
     "metadata": {},
     "source": [
      "<strong>Y a partir de aqu\u00ed podemos pasar a estudiar c\u00f3mo crear una clase</strong>\n",
      "\n",
      "Vamos a hacer una peque\u00f1a clase Mascota:"
     ]
    },
    {
     "cell_type": "code",
     "collapsed": false,
     "input": [
      "class Mascota:\n",
      "    \n",
      "    def __init__(self,name):\n",
      "        #Este es el constructor\n",
      "        self.name=name\n",
      "        self.__vivo=True\n",
      "        self.edad=0\n",
      "        \n",
      "    def getNombre(self):\n",
      "        print self.name\n",
      "        \n",
      "    def setEdad(self,edad):\n",
      "        self.edad=edad\n",
      "        \n",
      "    def estado(self):\n",
      "        print self.__vivo\n",
      "        \n",
      "    def loMatamos(self):\n",
      "        self.edad=0\n",
      "        self.__vivo=False\n",
      "        self.name=self.name + \" - DEP\"\n",
      "    \n",
      "m1 = Mascota('Mil\u00fa')\n",
      "m1.setEdad(1)\n",
      "m1.edad\n",
      "m1.loMatamos()\n",
      "m1.getNombre()"
     ],
     "language": "python",
     "metadata": {},
     "outputs": []
    },
    {
     "cell_type": "heading",
     "level": 3,
     "metadata": {},
     "source": [
      "Y la herencia?"
     ]
    },
    {
     "cell_type": "code",
     "collapsed": false,
     "input": [
      "class Culebra(Mascota):\n",
      "    def setMetros(self,largo):\n",
      "        self.metros = largo\n",
      "    \n",
      "    def getMetros(self):\n",
      "        print repr(self.metros)\n",
      "        \n",
      "m2 = Culebra(\"Lola\")\n",
      "m2.setMetros(20)\n",
      "m2.getMetros()"
     ],
     "language": "python",
     "metadata": {},
     "outputs": []
    },
    {
     "cell_type": "heading",
     "level": 3,
     "metadata": {},
     "source": [
      "Ejercicio:"
     ]
    },
    {
     "cell_type": "markdown",
     "metadata": {},
     "source": [
      "Crear dos clases nuevas (Bateria y Guitarra) que heredan las funciones y variables de la clase Instrumento.\n",
      "\n",
      "<ul>\n",
      "<li> <strong>Bateria</strong>: Hacer un nuevo m\u00e9todo que imprima \"esto es una bater\u00eda y Estamos tocando m\u00fasica\". Usar el m\u00e9todo tocar de la clase Instrumento para componer la cadena de salida.</li>\n",
      "<li><strong>Guitarra</strong>: Crear un nuevo constructor para indicarle el n\u00famero de cuerdas, y se debe crear una funci\u00f3n que devuelva el n\u00famero de cuerdas.</li>\n",
      "</ul>"
     ]
    },
    {
     "cell_type": "code",
     "collapsed": false,
     "input": [
      "class Instrumento:\n",
      "    def __init__(self, precio):\n",
      "        self.precio = precio\n",
      " \n",
      "    def tocar(self):\n",
      "        print \"Estamos tocando musica\"\n",
      " \n",
      "    def romper(self):\n",
      "        print \"Eso lo pagas tu\"\n",
      "        print \"Son\", self.precio, \"\u20ac\"\n",
      " \n",
      "class Bateria(Instrumento):\n",
      "\n",
      "class Guitarra(Instrumento):\n"
     ],
     "language": "python",
     "metadata": {},
     "outputs": []
    }
   ],
   "metadata": {}
  }
 ]
}